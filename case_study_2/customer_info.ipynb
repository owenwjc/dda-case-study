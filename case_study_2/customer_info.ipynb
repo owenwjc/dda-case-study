{
 "cells": [
  {
   "cell_type": "markdown",
   "metadata": {},
   "source": [
    "# Initialize"
   ]
  },
  {
   "cell_type": "code",
   "execution_count": 1,
   "metadata": {},
   "outputs": [
    {
     "data": {
      "text/plain": [
       "RendererRegistry.enable('notebook')"
      ]
     },
     "execution_count": 1,
     "metadata": {},
     "output_type": "execute_result"
    }
   ],
   "source": [
    "import pandas as pd\n",
    "import numpy as np\n",
    "import altair as alt\n",
    "\n",
    "alt.renderers.enable('notebook')"
   ]
  },
  {
   "cell_type": "markdown",
   "metadata": {},
   "source": [
    "# Load Data"
   ]
  },
  {
   "cell_type": "code",
   "execution_count": 2,
   "metadata": {},
   "outputs": [],
   "source": [
    "df = pd.read_csv(\"../data/casestudy.csv\", index_col = [0])\n",
    "yeardf = pd.DataFrame(index=df['year'].unique(), \n",
    "                      columns=['Total Revenue', \n",
    "                               'New Customer Revenue',\n",
    "                               'Existing Customer Growth',\n",
    "                               'Revenue Loss from Attrition',\n",
    "                               'Existing Customer Revenue Current Year',\n",
    "                               'Existing Customer Revenue Prior Year',\n",
    "                               'Total Customers Current Year',\n",
    "                               'Total Customers Previous Year',\n",
    "                               'New Customers',\n",
    "                               'Lost Customers'])\n",
    "pivot = df.pivot(index='customer_email', columns='year', values='net_revenue')\n",
    "\n",
    "num_years = df['year'].unique().size"
   ]
  },
  {
   "cell_type": "code",
   "execution_count": 4,
   "metadata": {},
   "outputs": [],
   "source": [
    "pivot_matrix = pivot.to_numpy(copy=True)\n",
    "transpose_matrix = pivot_matrix[::-1, ::-1].T\n",
    "\n",
    "prev = 0\n",
    "rows = transpose_matrix.shape[0]\n",
    "cols = transpose_matrix.shape[1]\n",
    "\n",
    "for i in range(1, rows):\n",
    "    for j in range(0, cols):\n",
    "        if np.isnan(transpose_matrix[prev][j]):\n",
    "            continue\n",
    "        else:\n",
    "            if not np.isnan(transpose_matrix[i][j]):\n",
    "                transpose_matrix[prev][j] = np.nan\n",
    "    prev = i\n",
    "\n",
    "pivot_matrix = transpose_matrix[::-1, ::-1].T\n",
    "newcustdf = pd.DataFrame()\n",
    "\n",
    "for i in range(num_years):\n",
    "    title = 2015 + i\n",
    "    newcustdf.insert(len(newcustdf.columns), title, pivot_matrix[:, i])\n",
    "\n",
    "yeardf['Total Revenue'] = pivot.sum()\n",
    "yeardf['New Customer Revenue'] = newcustdf.sum()\n",
    "yeardf['Total Customers Current Year'] = pivot.count()\n",
    "yeardf['Total Customers Previous Year'] = yeardf['Total Customers Current Year'].shift(1)\n",
    "yeardf['New Customers'] = newcustdf.count()"
   ]
  },
  {
   "cell_type": "code",
   "execution_count": 5,
   "metadata": {},
   "outputs": [],
   "source": [
    "\n",
    "for i in range(1, num_years):\n",
    "    currkey = 2015 + i\n",
    "    prevkey = currkey - 1\n",
    "    dfslice = pivot[pivot[prevkey].notna() & pivot[currkey].notna()]\n",
    "    revenues = dfslice.sum()\n",
    "    customers = dfslice.count()\n",
    "    yeardf.loc[currkey, 'Existing Customer Growth'] = revenues[currkey] - revenues[prevkey]\n",
    "    yeardf.loc[currkey, 'Revenue Loss from Attrition'] = yeardf.loc[prevkey, 'Total Revenue'] - revenues[currkey]\n",
    "    yeardf.loc[currkey, 'Existing Customer Revenue Current Year'] = revenues[currkey]\n",
    "    yeardf.loc[currkey, 'Existing Customer Revenue Prior Year'] = revenues[prevkey]\n",
    "    yeardf.loc[currkey, 'Lost Customers'] = yeardf.loc[prevkey, 'Total Customers Current Year'] - customers[currkey]"
   ]
  },
  {
   "cell_type": "code",
   "execution_count": 6,
   "metadata": {},
   "outputs": [
    {
     "data": {
      "text/html": [
       "<div>\n",
       "<style scoped>\n",
       "    .dataframe tbody tr th:only-of-type {\n",
       "        vertical-align: middle;\n",
       "    }\n",
       "\n",
       "    .dataframe tbody tr th {\n",
       "        vertical-align: top;\n",
       "    }\n",
       "\n",
       "    .dataframe thead th {\n",
       "        text-align: right;\n",
       "    }\n",
       "</style>\n",
       "<table border=\"1\" class=\"dataframe\">\n",
       "  <thead>\n",
       "    <tr style=\"text-align: right;\">\n",
       "      <th></th>\n",
       "      <th>Total Revenue</th>\n",
       "      <th>New Customer Revenue</th>\n",
       "      <th>Existing Customer Growth</th>\n",
       "      <th>Revenue Loss from Attrition</th>\n",
       "      <th>Existing Customer Revenue Current Year</th>\n",
       "      <th>Existing Customer Revenue Prior Year</th>\n",
       "      <th>Total Customers Current Year</th>\n",
       "      <th>Total Customers Previous Year</th>\n",
       "      <th>New Customers</th>\n",
       "      <th>Lost Customers</th>\n",
       "    </tr>\n",
       "  </thead>\n",
       "  <tbody>\n",
       "    <tr>\n",
       "      <th>2015</th>\n",
       "      <td>29036749.19</td>\n",
       "      <td>29036749.19</td>\n",
       "      <td>NaN</td>\n",
       "      <td>NaN</td>\n",
       "      <td>NaN</td>\n",
       "      <td>NaN</td>\n",
       "      <td>231294</td>\n",
       "      <td>NaN</td>\n",
       "      <td>231294</td>\n",
       "      <td>NaN</td>\n",
       "    </tr>\n",
       "    <tr>\n",
       "      <th>2016</th>\n",
       "      <td>25730943.59</td>\n",
       "      <td>18245491.01</td>\n",
       "      <td>20335.46</td>\n",
       "      <td>21551296.61</td>\n",
       "      <td>7485452.58</td>\n",
       "      <td>7465117.12</td>\n",
       "      <td>204646</td>\n",
       "      <td>231294.0</td>\n",
       "      <td>145062</td>\n",
       "      <td>171710</td>\n",
       "    </tr>\n",
       "    <tr>\n",
       "      <th>2017</th>\n",
       "      <td>31417495.03</td>\n",
       "      <td>28776235.04</td>\n",
       "      <td>20611.34</td>\n",
       "      <td>23089683.6</td>\n",
       "      <td>2641259.99</td>\n",
       "      <td>2620648.65</td>\n",
       "      <td>249987</td>\n",
       "      <td>204646.0</td>\n",
       "      <td>229028</td>\n",
       "      <td>183687</td>\n",
       "    </tr>\n",
       "  </tbody>\n",
       "</table>\n",
       "</div>"
      ],
      "text/plain": [
       "      Total Revenue  New Customer Revenue Existing Customer Growth  \\\n",
       "2015    29036749.19           29036749.19                      NaN   \n",
       "2016    25730943.59           18245491.01                 20335.46   \n",
       "2017    31417495.03           28776235.04                 20611.34   \n",
       "\n",
       "     Revenue Loss from Attrition Existing Customer Revenue Current Year  \\\n",
       "2015                         NaN                                    NaN   \n",
       "2016                 21551296.61                             7485452.58   \n",
       "2017                  23089683.6                             2641259.99   \n",
       "\n",
       "     Existing Customer Revenue Prior Year  Total Customers Current Year  \\\n",
       "2015                                  NaN                        231294   \n",
       "2016                           7465117.12                        204646   \n",
       "2017                           2620648.65                        249987   \n",
       "\n",
       "      Total Customers Previous Year  New Customers Lost Customers  \n",
       "2015                            NaN         231294            NaN  \n",
       "2016                       231294.0         145062         171710  \n",
       "2017                       204646.0         229028         183687  "
      ]
     },
     "execution_count": 6,
     "metadata": {},
     "output_type": "execute_result"
    }
   ],
   "source": [
    "yeardf"
   ]
  }
 ],
 "metadata": {
  "interpreter": {
   "hash": "a3b4037309c77ddfec52f53cf1de4434dc0ccbacddc4cd411a5bac1e474e7cc4"
  },
  "kernelspec": {
   "display_name": "Python 3.9.4 ('vsenv')",
   "language": "python",
   "name": "python3"
  },
  "language_info": {
   "codemirror_mode": {
    "name": "ipython",
    "version": 3
   },
   "file_extension": ".py",
   "mimetype": "text/x-python",
   "name": "python",
   "nbconvert_exporter": "python",
   "pygments_lexer": "ipython3",
   "version": "3.9.4"
  },
  "orig_nbformat": 4
 },
 "nbformat": 4,
 "nbformat_minor": 2
}
